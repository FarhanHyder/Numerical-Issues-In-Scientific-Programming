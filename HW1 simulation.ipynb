{
 "cells": [
  {
   "cell_type": "code",
   "execution_count": 1,
   "metadata": {},
   "outputs": [
    {
     "name": "stdout",
     "output_type": "stream",
     "text": [
      "absolute diff =  0.00010036067294771911\n"
     ]
    }
   ],
   "source": [
    "import math as m\n",
    "\n",
    "#initializing variables with given values\n",
    "x =3\n",
    "delta = 10**-12\n",
    "#f1 is given and g1 is partially given\n",
    "f1 = m.cos(x+delta)-m.cos(x)\n",
    "g1 = (f1/delta)+m.sin(x)\n",
    "#f2 is derived from the given trig function. \n",
    "    #detailed steps shown above in part a\n",
    "f2 = -2*m.sin((2*x+delta)/2)*m.sin(delta/2)\n",
    "g2 = (f2/delta)+m.sin(x)\n",
    "\n",
    "#print(\"g1: \",g1)\n",
    "#print(\"g2: \",g2)\n",
    "\n",
    "diff = abs(g2-g1)\n",
    "print(\"absolute diff = \",diff)"
   ]
  },
  {
   "cell_type": "code",
   "execution_count": 2,
   "metadata": {},
   "outputs": [
    {
     "name": "stdout",
     "output_type": "stream",
     "text": [
      "h = 1e-20\tf'(1.2) = 0.3623577544766736\n",
      "h = 1e-19\tf'(1.2) = 0.3623577544766736\n",
      "h = 1e-18\tf'(1.2) = 0.3623577544766736\n",
      "h = 1e-17\tf'(1.2) = 0.36235775447667357\n",
      "h = 1e-16\tf'(1.2) = 0.3623577544766736\n",
      "h = 1e-15\tf'(1.2) = 0.36235775447667323\n",
      "h = 1e-14\tf'(1.2) = 0.36235775447666885\n",
      "h = 1e-13\tf'(1.2) = 0.36235775447662705\n",
      "h = 1e-12\tf'(1.2) = 0.36235775447620755\n",
      "h = 1e-11\tf'(1.2) = 0.3623577544720134\n",
      "h = 1e-10\tf'(1.2) = 0.3623577544300717\n",
      "h = 1e-9\tf'(1.2) = 0.36235775401065407\n",
      "h = 1e-8\tf'(1.2) = 0.3623577498164782\n",
      "h = 1e-7\tf'(1.2) = 0.3623577078747188\n",
      "h = 1e-6\tf'(1.2) = 0.36235728845707016\n",
      "h = 1e-5\tf'(1.2) = 0.36235309427520446\n",
      "h = 1e-4\tf'(1.2) = 0.3623111519184844\n",
      "h = 1e-3\tf'(1.2) = 0.36189167457956894\n",
      "h = 1e-2\tf'(1.2) = 0.3576915586159585\n",
      "h = 1e-1\tf'(1.2) = 0.31519099449966614\n",
      "h = 1e-0\tf'(1.2) = -0.12354268214763632\n"
     ]
    }
   ],
   "source": [
    "#creating a function that takes x and h as it's two parameters\n",
    "def Dh(x,h):\n",
    "    deltaH = (2*m.cos((2*x+h)/2)*m.sin(h/2))/h\n",
    "    return deltaH;\n",
    "\n",
    "x = 1.2 #constant value \n",
    "h = 10**-20 #starting with the lower limit of h\n",
    "\n",
    "#generates all Dh value in range [1e-20,1] \n",
    "for i in range(20,-1,-1):\n",
    "    print(\"h = 1e-\",i,\"\\tf'(\",x,\") = \",Dh(x,h),sep=\"\")\n",
    "    \n",
    "    h = h*10"
   ]
  },
  {
   "cell_type": "code",
   "execution_count": 3,
   "metadata": {},
   "outputs": [
    {
     "data": {
      "text/plain": [
       "<matplotlib.figure.Figure at 0x1e5ff5b0518>"
      ]
     },
     "metadata": {},
     "output_type": "display_data"
    }
   ],
   "source": [
    "import numpy as np\n",
    "import matplotlib.pyplot as plt\n",
    "\n",
    "M = [.100,.101,.110,.111] \n",
    "    #found using the value B=2 and t=3\n",
    "L = -2 \n",
    "U = 3\n",
    "\n",
    "X = [] #creating an empty list\n",
    "for i in range (L,U+1):\n",
    "    for n in M:\n",
    "        t = n*(2**i) \n",
    "        X.append(t) #appending the +ve val\n",
    "        X.append(-t)#appending the -ve val\n",
    "X.append(0) #appending the zero \n",
    "Y = np.zeros(len(X)) \n",
    "    #creating a list of zeros of same length as X\n",
    "\n",
    "plt.plot(X,Y,'+')\n",
    "plt.show()"
   ]
  },
  {
   "cell_type": "code",
   "execution_count": 4,
   "metadata": {},
   "outputs": [
    {
     "name": "stdout",
     "output_type": "stream",
     "text": [
      "Total numbers in x =  49\n",
      "Variance =  0.15538017857142858\n",
      "\n",
      "List of all non-negative numbers:\n",
      "[0, 0.025, 0.02525, 0.0275, 0.02775, 0.05, 0.0505, 0.055, 0.0555, 0.1, 0.101, 0.11, 0.111, 0.2, 0.202, 0.22, 0.222, 0.4, 0.404, 0.44, 0.444, 0.8, 0.808, 0.88, 0.888]\n"
     ]
    }
   ],
   "source": [
    "X.sort() #sorts the list in ascending order\n",
    "x_length = len(X)\n",
    "\n",
    "#to check if this matches with our calculation or not\n",
    "print(\"Total numbers in x = \",x_length)\n",
    "print(\"Variance = \",np.var(X))\n",
    "\n",
    "x_half_len = int(len(X)/2)\n",
    "\n",
    "print(\"\\nList of all non-negative numbers:\")\n",
    "print(X[x_half_len:]) #prints all non-negative numbers\n",
    "\n",
    "\n",
    "\n"
   ]
  },
  {
   "cell_type": "code",
   "execution_count": 5,
   "metadata": {},
   "outputs": [],
   "source": [
    "import time\n",
    "import random\n",
    "import numpy as np\n",
    "\n",
    "def first_method(x_list,x_mean,n):\n",
    "    fsum = 0\n",
    "    for i in x_list:\n",
    "        fsum+= pow((i-x_mean),2)\n",
    "        \n",
    "    return ((1/n)*fsum)"
   ]
  },
  {
   "cell_type": "code",
   "execution_count": 6,
   "metadata": {},
   "outputs": [],
   "source": [
    "def second_method(x_list,x_mean,n):\n",
    "    ssum = 0\n",
    "    x_mean_square = pow(x_mean,2)\n",
    "    for i in x_list:\n",
    "        ssum+=pow(i,2)-x_mean_square\n",
    "    return ((1/n)*ssum)"
   ]
  },
  {
   "cell_type": "code",
   "execution_count": 7,
   "metadata": {},
   "outputs": [
    {
     "name": "stdout",
     "output_type": "stream",
     "text": [
      "First method won :  844 times\n",
      "Second method won:  148 times\n"
     ]
    }
   ],
   "source": [
    "fm_win_counter = 0\n",
    "sm_win_counter = 0\n",
    "for i in range (0,1000):\n",
    "    n = 10000\n",
    "    X = random.sample(range(20000),n)\n",
    "    X_mean = np.mean(X)\n",
    "    \n",
    "    fm_start_time = time.time()\n",
    "    first_method(X,X_mean,n)\n",
    "    fm_time_taken = time.time()-fm_start_time\n",
    "    \n",
    "    sm_start_time = time.time()\n",
    "    second_method(X,X_mean,n)\n",
    "    sm_time_taken = time.time()-sm_start_time\n",
    "    \n",
    "    if fm_time_taken<sm_time_taken:\n",
    "        fm_win_counter = fm_win_counter+1\n",
    "    elif sm_time_taken<fm_time_taken:\n",
    "        sm_win_counter = sm_win_counter+1\n",
    "        \n",
    "print(\"First method won : \",fm_win_counter,\"times\")\n",
    "print(\"Second method won: \",sm_win_counter,\"times\")\n"
   ]
  },
  {
   "cell_type": "code",
   "execution_count": 8,
   "metadata": {},
   "outputs": [],
   "source": [
    "def third_method(x_list,x_mean,n):\n",
    "    ssum = 0\n",
    "    x_mean_square = pow(x_mean,2)\n",
    "    for i in x_list:\n",
    "        ssum+=pow(i,2)\n",
    "    ssum = ssum - (n*x_mean_square)\n",
    "    return ((1/n)*ssum)"
   ]
  },
  {
   "cell_type": "code",
   "execution_count": 9,
   "metadata": {},
   "outputs": [
    {
     "name": "stdout",
     "output_type": "stream",
     "text": [
      "First method won:  6 times\n",
      "Third method won :  994 times\n"
     ]
    }
   ],
   "source": [
    "fm_win_counter = 0\n",
    "tm_win_counter = 0\n",
    "for i in range (0,1000):\n",
    "    n = 10000\n",
    "    X = random.sample(range(20000),n)\n",
    "    X_mean = np.mean(X)\n",
    "    \n",
    "    fm_start_time = time.time()\n",
    "    first_method(X,X_mean,n)\n",
    "    fm_time_taken = time.time()-fm_start_time\n",
    "    \n",
    "    tm_start_time = time.time()\n",
    "    third_method(X,X_mean,n)\n",
    "    tm_time_taken = time.time()-tm_start_time\n",
    "    \n",
    "    if fm_time_taken<tm_time_taken:\n",
    "        fm_win_counter = fm_win_counter+1\n",
    "    elif tm_time_taken<fm_time_taken:\n",
    "        tm_win_counter = tm_win_counter+1\n",
    "        \n",
    "print(\"First method won: \",fm_win_counter,\"times\")\n",
    "print(\"Third method won : \",tm_win_counter,\"times\")\n",
    "\n"
   ]
  }
 ],
 "metadata": {
  "kernelspec": {
   "display_name": "Python 3",
   "language": "python",
   "name": "python3"
  },
  "language_info": {
   "codemirror_mode": {
    "name": "ipython",
    "version": 3
   },
   "file_extension": ".py",
   "mimetype": "text/x-python",
   "name": "python",
   "nbconvert_exporter": "python",
   "pygments_lexer": "ipython3",
   "version": "3.6.4"
  }
 },
 "nbformat": 4,
 "nbformat_minor": 2
}
